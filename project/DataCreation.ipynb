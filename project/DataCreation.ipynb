{
 "cells": [
  {
   "cell_type": "code",
   "execution_count": 1,
   "id": "f239815e-d0d1-48f2-9754-e16dcf6591fd",
   "metadata": {},
   "outputs": [],
   "source": [
    "# Author: Bonaventure F. P. Dossou - bonaventure.dossou@mila.quebec\n",
    "# Data preparation and Dataset creation for the models training\n",
    "# Please run this only once (more details on Solution.md)\n",
    "import os\n",
    "from pathlib import Path\n",
    "import glob\n",
    "import openslide\n",
    "import random\n",
    "import pandas as pd\n",
    "import numpy as np\n",
    "import math\n",
    "import matplotlib.pyplot as plt\n",
    "import re\n",
    "from tqdm import tqdm\n",
    "from sklearn.model_selection import train_test_split"
   ]
  },
  {
   "cell_type": "code",
   "execution_count": 2,
   "id": "3b2675ec-38cc-4372-8932-ecb00cd35bc9",
   "metadata": {},
   "outputs": [],
   "source": [
    "data_dir = os.path.join('/','home','ngsci','datasets','brca-psj-path')\n",
    "slide_dir = os.path.join(data_dir, 'ndpi')\n",
    "slides_fp = os.path.join(slide_dir,'*','*')\n",
    "slides_list = glob.glob(slides_fp)"
   ]
  },
  {
   "cell_type": "code",
   "execution_count": 3,
   "id": "4a08c3df-ae07-462f-9e02-af327ae85fc9",
   "metadata": {},
   "outputs": [
    {
     "name": "stdout",
     "output_type": "stream",
     "text": [
      "52323 3269\n"
     ]
    }
   ],
   "source": [
    "v1_slide_biopsy_map_fp = os.path.join(data_dir, 'v1', 'slide-biopsy-map.csv')\n",
    "v2_slide_biopsy_map_fp = os.path.join(data_dir, 'v2', 'slide-biopsy-map.csv')\n",
    "\n",
    "v1_outcomes_fp = os.path.join(data_dir, 'v1', 'outcomes.csv')\n",
    "v2_outcomes_fp = os.path.join(data_dir, 'v2', 'outcomes.csv')\n",
    "\n",
    "v1_slide_biopsy_map_df = pd.read_csv(v1_slide_biopsy_map_fp)\n",
    "v2_slide_biopsy_map_df = pd.read_csv(v2_slide_biopsy_map_fp)\n",
    "v1_outcomes_df = pd.read_csv(v1_outcomes_fp)\n",
    "v2_outcomes_df = pd.read_csv(v2_outcomes_fp)\n",
    "\n",
    "slide_biopsy_map_df = pd.concat([v1_slide_biopsy_map_df, v2_slide_biopsy_map_df]).drop_duplicates()\n",
    "outcomes_df = pd.concat([v1_outcomes_df, v2_outcomes_df]).drop_duplicates(subset='biopsy_id')\n",
    "outcomes_df['stage'] = outcomes_df['stage'].str.replace(\"A\", \"\").str.replace(\"B\", \"\").str.replace(\"C\", \"\")"
   ]
  },
  {
   "cell_type": "code",
   "execution_count": 4,
   "id": "addfc175-a7e2-4c54-ac49-94f6312e2b01",
   "metadata": {},
   "outputs": [],
   "source": [
    "biopsy_dict = {bio_id: stage for bio_id, stage in zip(outcomes_df['biopsy_id'].tolist(), outcomes_df['stage'].tolist())}"
   ]
  },
  {
   "cell_type": "code",
   "execution_count": 5,
   "id": "5822dbe6-922c-44bf-9fbd-4ec3fe11be16",
   "metadata": {},
   "outputs": [],
   "source": [
    "slide_biopsy_map_df['stage'] = slide_biopsy_map_df['biopsy_id'].apply(lambda x: biopsy_dict[x])\n",
    "slide_biopsy_map_df.dropna(subset='stage', inplace=True)\n",
    "slide_biopsy_map_df = slide_biopsy_map_df[slide_biopsy_map_df['stage'].isin(['0', 'I', 'II', 'III', 'IV', 'No Stage Rec'])]\n",
    "dict_ = {'0': 0, 'I': 1, 'II': 2, 'III': 3, 'IV': 4, 'No Stage Rec': 1} # based on the stats most breast cancer had stage 1\n",
    "slide_biopsy_map_df['stage'] = slide_biopsy_map_df['stage'].apply(lambda x: dict_[x])"
   ]
  },
  {
   "cell_type": "code",
   "execution_count": 6,
   "id": "ff493523-618d-4776-b5fa-126cd8987973",
   "metadata": {},
   "outputs": [],
   "source": [
    "labels = slide_biopsy_map_df['stage'].tolist()\n",
    "path_data = slide_biopsy_map_df['slide_path'].tolist()"
   ]
  },
  {
   "cell_type": "code",
   "execution_count": 7,
   "id": "e1961839-1d9d-4244-9aa5-37e8e0fee3bf",
   "metadata": {},
   "outputs": [],
   "source": [
    "train_data, eval_data, train_labels, eval_labels = train_test_split(path_data, labels, stratify=labels, test_size=0.2, random_state=42)"
   ]
  },
  {
   "cell_type": "code",
   "execution_count": 8,
   "id": "f908e7ff-1d5d-4e05-8b5d-4c0216c08f68",
   "metadata": {},
   "outputs": [
    {
     "name": "stdout",
     "output_type": "stream",
     "text": [
      "Training Data: 32146 - Validation Data: 8037\n"
     ]
    }
   ],
   "source": [
    "print('Training Data: {} - Validation Data: {}'.format(len(train_data), len(eval_data)))"
   ]
  },
  {
   "cell_type": "code",
   "execution_count": 9,
   "id": "30075128-dd1c-40a2-acc4-25f8389a4b24",
   "metadata": {},
   "outputs": [],
   "source": [
    "def make_dirs():\n",
    "    directory = os.path.join('/','home','ngsci','project', 'breast_cancer')\n",
    "    for split in ['train', 'val']:\n",
    "        if not os.path.exists(os.path.join(directory, split)):\n",
    "            os.mkdir(os.path.join(directory, split))\n",
    "        split_dir = os.path.join(directory, split)\n",
    "        for category in range(5):\n",
    "            if not os.path.exists(os.path.join(split_dir, str(category))):\n",
    "                os.mkdir(os.path.join(split_dir, str(category)))\n",
    "\n",
    "make_dirs()"
   ]
  },
  {
   "cell_type": "code",
   "execution_count": 10,
   "id": "f81d937b-9763-49d1-8815-05a620f44bc3",
   "metadata": {},
   "outputs": [],
   "source": [
    "def downsample_slide(ndpi_filepath, output_dir):\n",
    "    slide_id = Path(ndpi_filepath).stem\n",
    "    with openslide.OpenSlide(ndpi_filepath) as openslide_obj:\n",
    "        dim = openslide_obj.dimensions\n",
    "        new_dim = (224, 224)\n",
    "        image = openslide_obj.get_thumbnail(new_dim)\n",
    "        image.save(os.path.join(output_dir, f\"{slide_id}.png\"))"
   ]
  },
  {
   "cell_type": "code",
   "execution_count": null,
   "id": "445f767b-4521-4a1a-b960-f2a490efc46a",
   "metadata": {},
   "outputs": [],
   "source": [
    "def create_images_to_dir(dataset_split, data_paths, data_labels):\n",
    "    directory = os.path.join('/','home','ngsci','project', 'breast_cancer', dataset_split)\n",
    "    total_data = len(data_paths)\n",
    "    for index in tqdm(range(1554+3406, total_data), desc =\"Data Creation Progress\"):\n",
    "        data_path, data_label = data_paths[index], data_labels[index]\n",
    "        output_directory = os.path.join(directory, str(data_label))\n",
    "        downsample_slide(data_path, output_directory)\n",
    "\n",
    "create_images_to_dir('train', train_data, train_labels)\n",
    "create_images_to_dir('val', eval_data, eval_labels)\n",
    "\n",
    "train_data_dir = os.path.join('/','home','ngsci', 'project', 'breast_cancer', 'train')\n",
    "train_slides_fp = os.path.join(train_data_dir,'*','*')\n",
    "train_slides_list = glob.glob(train_slides_fp)\n",
    "print('Train Images :{}'.format(len(train_slides_list)))\n",
    "\n",
    "eval_data_dir = os.path.join('/','home','ngsci', 'project', 'breast_cancer', 'val')\n",
    "eval_slides_fp = os.path.join(eval_data_dir,'*','*')\n",
    "eval_slides_list = glob.glob(eval_slides_fp)\n",
    "print('Eval Images :{}'.format(len(eval_slides_list)))"
   ]
  },
  {
   "cell_type": "code",
   "execution_count": 5,
   "id": "8c05e7a8-93ff-4f36-a718-32d83de95df7",
   "metadata": {},
   "outputs": [
    {
     "name": "stdout",
     "output_type": "stream",
     "text": [
      "16607\n"
     ]
    }
   ],
   "source": [
    "test_data = os.path.join('/','home','ngsci','datasets', 'brca-psj-path', 'basic-downsampling', 'holdout')\n",
    "test_slides_fp = os.path.join(test_data, '*')\n",
    "test_slides_list = glob.glob(test_slides_fp)\n",
    "print(len(test_slides_list))"
   ]
  }
 ],
 "metadata": {
  "kernelspec": {
   "display_name": "Python 3 (ipykernel)",
   "language": "python",
   "name": "python3"
  },
  "language_info": {
   "codemirror_mode": {
    "name": "ipython",
    "version": 3
   },
   "file_extension": ".py",
   "mimetype": "text/x-python",
   "name": "python",
   "nbconvert_exporter": "python",
   "pygments_lexer": "ipython3",
   "version": "3.8.11"
  }
 },
 "nbformat": 4,
 "nbformat_minor": 5
}
