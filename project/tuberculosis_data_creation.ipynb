{
 "cells": [
  {
   "cell_type": "code",
   "execution_count": null,
   "id": "439e4526-d179-4418-b2c3-fffe43e6ead9",
   "metadata": {
    "tags": []
   },
   "outputs": [],
   "source": [
    "import shutil\n",
    "import os\n",
    "import pandas as pd\n",
    "from tqdm import tqdm"
   ]
  },
  {
   "cell_type": "code",
   "execution_count": null,
   "id": "d3c29ef4-0778-4d56-89ea-180ea40c2c85",
   "metadata": {
    "tags": []
   },
   "outputs": [],
   "source": [
    "datapath = \"../../datasets/tb-wellgen-smear/v1/tb-labels.csv\""
   ]
  },
  {
   "cell_type": "code",
   "execution_count": null,
   "id": "8cff36fa-4d11-499a-8c33-1e6213b78e7c",
   "metadata": {
    "tags": []
   },
   "outputs": [],
   "source": [
    "data = pd.read_csv(datapath)\n",
    "data"
   ]
  },
  {
   "cell_type": "code",
   "execution_count": null,
   "id": "53bd7d96-7695-460c-85d3-6f8b9de9b477",
   "metadata": {
    "tags": []
   },
   "outputs": [],
   "source": [
    "positive = data[data[\"tb_positive\"]==1]\n",
    "train_positive = positive.sample(n=2500, random_state=42)"
   ]
  },
  {
   "cell_type": "code",
   "execution_count": null,
   "id": "a8981387-902d-45cd-8d4e-94b502e6f6da",
   "metadata": {
    "tags": []
   },
   "outputs": [],
   "source": [
    "eval_positive = positive.loc[list(set(positive.index).symmetric_difference(set(train_positive.index)))].dropna()\n",
    "eval_positive"
   ]
  },
  {
   "cell_type": "code",
   "execution_count": null,
   "id": "6b6054f2-95f5-47ca-95ae-d2bdb57abbd0",
   "metadata": {
    "tags": []
   },
   "outputs": [],
   "source": [
    "train_positive[\"split\"] = \"train\"\n",
    "eval_positive[\"split\"] = \"eval\""
   ]
  },
  {
   "cell_type": "code",
   "execution_count": null,
   "id": "7f4ba646-c9b3-4b00-b65e-9c2697002ed5",
   "metadata": {
    "tags": []
   },
   "outputs": [],
   "source": [
    "eval_positive"
   ]
  },
  {
   "cell_type": "code",
   "execution_count": null,
   "id": "7a7abc35-963f-4ca0-98f7-8ad2be87dbd3",
   "metadata": {
    "tags": []
   },
   "outputs": [],
   "source": [
    "train_positive"
   ]
  },
  {
   "cell_type": "code",
   "execution_count": null,
   "id": "97c6a967-fff8-495f-9439-8111fc51d75a",
   "metadata": {
    "tags": []
   },
   "outputs": [],
   "source": [
    "labels = data.tb_positive.tolist()\n",
    "paths = data.file_path.tolist()\n",
    "images = data.image.tolist()"
   ]
  },
  {
   "cell_type": "code",
   "execution_count": null,
   "id": "c253039b-fc44-4171-a53f-970da5f4fbb4",
   "metadata": {
    "tags": []
   },
   "outputs": [],
   "source": [
    "negative = data[data[\"tb_positive\"]==0]\n",
    "eval_negative = negative.sample(n=len(eval_positive), random_state=42)\n",
    "eval_negative"
   ]
  },
  {
   "cell_type": "code",
   "execution_count": null,
   "id": "5e78a5fa-78c0-4878-9f8e-fa3e60fe5e11",
   "metadata": {
    "tags": []
   },
   "outputs": [],
   "source": [
    "train_negative = negative.loc[list(set(negative.index).symmetric_difference(set(eval_negative.index)))].dropna()\n",
    "train_negative"
   ]
  },
  {
   "cell_type": "code",
   "execution_count": null,
   "id": "1d7c0288-74fe-4d46-a42c-a36eb6d01f07",
   "metadata": {
    "tags": []
   },
   "outputs": [],
   "source": [
    "train_negative[\"split\"] = \"train\"\n",
    "eval_negative[\"split\"] = \"eval\""
   ]
  },
  {
   "cell_type": "code",
   "execution_count": null,
   "id": "ca75fa58-ab77-4def-928f-f62323a50a48",
   "metadata": {
    "tags": []
   },
   "outputs": [],
   "source": [
    "all_data = pd.concat([train_negative, eval_negative, train_positive, eval_positive])\n",
    "all_data = all_data.sample(frac=1, random_state=42)\n",
    "all_data"
   ]
  },
  {
   "cell_type": "code",
   "execution_count": null,
   "id": "1776df54-8d23-43c9-a8ea-82f92193bef3",
   "metadata": {
    "tags": []
   },
   "outputs": [],
   "source": [
    "def create_images_to_dir(dataset_split, data_paths, data_labels, images_names):\n",
    "    directory = os.path.join('/','home','ngsci','project', 'tb', dataset_split)\n",
    "    total_data = len(data_paths)\n",
    "    for index in tqdm(range(total_data), desc =\"Data Creation Progress\"):\n",
    "        data_path, data_label, image_name = data_paths[index], data_labels[index], images_names[index]\n",
    "        output_directory = os.path.join(directory, str(data_label), image_name)\n",
    "        shutil.copy(data_path, output_directory)"
   ]
  },
  {
   "cell_type": "code",
   "execution_count": null,
   "id": "f053cdfa-a80e-4d1c-92d9-651b27dbe1b8",
   "metadata": {
    "tags": []
   },
   "outputs": [],
   "source": [
    "# !ls ../tb/train/1/aug*"
   ]
  },
  {
   "cell_type": "code",
   "execution_count": null,
   "id": "e5faaab4-487a-42b2-8d3d-21eddf1e22ab",
   "metadata": {
    "tags": []
   },
   "outputs": [],
   "source": [
    "train_data = all_data[all_data[\"split\"]==\"train\"]\n",
    "eval_data = all_data[all_data[\"split\"]==\"eval\"]\n",
    "\n",
    "train_data_paths = train_data.file_path.tolist()\n",
    "train_data_labels = train_data.tb_positive.tolist()\n",
    "train_images_names = train_data.image.tolist()\n",
    "\n",
    "val_data_paths = eval_data.file_path.tolist()\n",
    "val_data_labels = eval_data.tb_positive.tolist()\n",
    "val_images_names = eval_data.image.tolist()"
   ]
  },
  {
   "cell_type": "code",
   "execution_count": null,
   "id": "0de60cab-0119-47bb-9662-08228d63dc31",
   "metadata": {
    "tags": []
   },
   "outputs": [],
   "source": [
    "create_images_to_dir('train', train_data_paths, train_data_labels, train_images_names)\n",
    "create_images_to_dir('val', val_data_paths, val_data_labels, val_images_names)"
   ]
  },
  {
   "cell_type": "code",
   "execution_count": null,
   "id": "0348dd75-814f-44f9-8dc2-af18c35ec293",
   "metadata": {
    "tags": []
   },
   "outputs": [],
   "source": [
    "import glob\n",
    "\n",
    "train_data_dir = os.path.join('/','home','ngsci', 'project', 'tb', 'train')\n",
    "train_slides_fp = os.path.join(train_data_dir,'*','tb*')\n",
    "train_slides_list = glob.glob(train_slides_fp)\n",
    "print('Train Images :{}'.format(len(train_slides_list)))\n",
    "\n",
    "eval_data_dir = os.path.join('/','home','ngsci', 'project', 'tb', 'val')\n",
    "eval_slides_fp = os.path.join(eval_data_dir,'*','*')\n",
    "eval_slides_list = glob.glob(eval_slides_fp)\n",
    "print('Eval Images :{}'.format(len(eval_slides_list)))"
   ]
  },
  {
   "cell_type": "code",
   "execution_count": null,
   "id": "17fcdb68-08d9-4077-a436-dc324f990a93",
   "metadata": {
    "tags": []
   },
   "outputs": [],
   "source": [
    "train_data_dir = os.path.join('/','home','ngsci', 'project', 'tb', 'train', '1')\n",
    "train_slides_fp = os.path.join(train_data_dir,'tb*')\n",
    "train_slides_list = glob.glob(train_slides_fp)\n",
    "\n",
    "print('Train Positive Images Before Augmentation :{}'.format(len(train_slides_list)))"
   ]
  },
  {
   "cell_type": "code",
   "execution_count": null,
   "id": "2294ec26-fb9e-4050-af27-746c4f61f318",
   "metadata": {
    "tags": []
   },
   "outputs": [],
   "source": [
    "# import tensorflow as tf\n",
    "from tensorflow.keras.preprocessing.image import ImageDataGenerator, array_to_img, img_to_array, load_img\n",
    "import glob\n",
    "import numpy as np\n",
    "\n",
    "trainAug = ImageDataGenerator(\n",
    "\trotation_range=90,\n",
    "\tzoom_range=0.15,\n",
    "\twidth_shift_range=0.2,\n",
    "\theight_shift_range=0.2,\n",
    "\tshear_range=0.15,\n",
    "\thorizontal_flip=True,\n",
    "\tfill_mode=\"nearest\")\n",
    "\n",
    "def build_augmented_images():\n",
    "    directory = os.path.join('/','home','ngsci','project', 'tb', 'train', '1')\n",
    "    \n",
    "    for image_index in tqdm(range(2388, len(train_slides_list)), desc='Generating Augmentation Images'):\n",
    "        image = load_img(train_slides_list[image_index])\n",
    "        image = img_to_array(image)\n",
    "        image = np.expand_dims(image, 0)\n",
    "\n",
    "        # generating images\n",
    "        \n",
    "        imageGen = trainAug.flow(image, save_to_dir=directory,\n",
    "                                 save_prefix ='aug_image_{}'.format(image_index),\n",
    "                                 save_format ='jpg')\n",
    "\n",
    "        total = 0\n",
    "        for image_generated in imageGen:\n",
    "            if total == 30:\n",
    "                break\n",
    "            total += 1\n",
    "        \n",
    "        new_train_data_dir = os.path.join('/','home','ngsci', 'project', 'tb', 'train', '1')\n",
    "        new_train_slides_fp = os.path.join(new_train_data_dir,'aug_4*')\n",
    "        new_train_slides_list = glob.glob(new_train_slides_fp)\n",
    "        print('Round 4 Augmentated Images :{}'.format(len(new_train_slides_list)))\n",
    "\n",
    "build_augmented_images()"
   ]
  },
  {
   "cell_type": "code",
   "execution_count": null,
   "id": "1baf0315-df65-4914-be89-1a768b952023",
   "metadata": {},
   "outputs": [],
   "source": [
    "train_data_dir = os.path.join('/','home','ngsci', 'project', 'tb', 'train', '1')\n",
    "train_slides_fp = os.path.join(train_data_dir,'*')\n",
    "train_slides_list = glob.glob(train_slides_fp)\n",
    "\n",
    "print('Train Positive Images After Augmentation :{}'.format(len(train_slides_list)))"
   ]
  },
  {
   "cell_type": "code",
   "execution_count": null,
   "id": "abf2d72e-893c-4023-b6ed-90f9990c2747",
   "metadata": {},
   "outputs": [],
   "source": [
    "train_data_dir = os.path.join('/','home','ngsci', 'project', 'tb', 'train', '0')\n",
    "train_slides_fp = os.path.join(train_data_dir,'*')\n",
    "train_slides_list = glob.glob(train_slides_fp)\n",
    "\n",
    "print('Train Negative Images After Augmentation :{}'.format(len(train_slides_list)))"
   ]
  },
  {
   "cell_type": "code",
   "execution_count": null,
   "id": "714169d6-0294-40ff-9246-c138b1c0454f",
   "metadata": {},
   "outputs": [],
   "source": [
    "# Data Augmentation ended up not working well. The best LB result is done on non-augmented dataset"
   ]
  },
  {
   "cell_type": "code",
   "execution_count": null,
   "id": "c2068a57-2ec2-4e39-97d6-12031219d1f0",
   "metadata": {
    "tags": []
   },
   "outputs": [],
   "source": [
    "import os\n",
    "import shutil\n",
    "import glob\n",
    "\n",
    "new_train_data_dir = os.path.join('/','home','ngsci', 'project', 'tb', 'train', '1')\n",
    "new_train_slides_fp = os.path.join(new_train_data_dir,'aug_*')\n",
    "new_train_slides_list = glob.glob(new_train_slides_fp)\n",
    "print('Augmentated Images :{}'.format(len(new_train_slides_list)))"
   ]
  },
  {
   "cell_type": "code",
   "execution_count": null,
   "id": "23a00b96-501e-4f7f-9b98-c3ba9eea439f",
   "metadata": {
    "tags": []
   },
   "outputs": [],
   "source": [
    "for file_path in new_train_slides_list:\n",
    "    os.remove(file_path)"
   ]
  },
  {
   "cell_type": "code",
   "execution_count": null,
   "id": "3bcbf124-bd2d-4edc-b82d-16764d5264a6",
   "metadata": {
    "tags": []
   },
   "outputs": [],
   "source": [
    "new_train_data_dir = os.path.join('/','home','ngsci', 'project', 'tb', 'train', '1')\n",
    "new_train_slides_fp = os.path.join(new_train_data_dir,'aug_*')\n",
    "new_train_slides_list = glob.glob(new_train_slides_fp)\n",
    "print('Augmentated Images :{}'.format(len(new_train_slides_list)))"
   ]
  },
  {
   "cell_type": "code",
   "execution_count": null,
   "id": "a005ae9f-f4dd-426a-b004-35102d9d5e51",
   "metadata": {},
   "outputs": [],
   "source": []
  }
 ],
 "metadata": {
  "kernelspec": {
   "display_name": "Python 3 (ipykernel)",
   "language": "python",
   "name": "python3"
  },
  "language_info": {
   "codemirror_mode": {
    "name": "ipython",
    "version": 3
   },
   "file_extension": ".py",
   "mimetype": "text/x-python",
   "name": "python",
   "nbconvert_exporter": "python",
   "pygments_lexer": "ipython3",
   "version": "3.10.9"
  }
 },
 "nbformat": 4,
 "nbformat_minor": 5
}
