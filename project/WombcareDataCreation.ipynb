{
 "cells": [
  {
   "cell_type": "code",
   "execution_count": null,
   "id": "f239815e-d0d1-48f2-9754-e16dcf6591fd",
   "metadata": {
    "tags": []
   },
   "outputs": [],
   "source": [
    "import os\n",
    "from pathlib import Path\n",
    "import glob\n",
    "import openslide\n",
    "import random\n",
    "import pandas as pd\n",
    "import numpy as np\n",
    "import math\n",
    "import matplotlib.pyplot as plt\n",
    "import re\n",
    "from tqdm import tqdm\n",
    "from sklearn.model_selection import train_test_split\n",
    "from PIL import Image\n",
    "import h5py\n",
    "import torch\n",
    "import shutil"
   ]
  },
  {
   "cell_type": "code",
   "execution_count": null,
   "id": "7e38fb20-c70a-4606-a859-1ad48325443f",
   "metadata": {},
   "outputs": [],
   "source": [
    "brca_dir = Path().home() / 'datasets' / 'brca-psj-path'\n",
    "clam_train_dir = brca_dir / 'contest-phase-2' / 'clam-preprocessing-train'\n",
    "clam_train_test = brca_dir / 'contest-phase-2' / 'clam-preprocessing-holdout'\n",
    "patches_dir = clam_train_dir / 'patches'\n",
    "stitches_dir = clam_train_dir / 'stitches'\n",
    "stitches_dir_test = clam_train_test / 'stitches'\n",
    "\n",
    "\n",
    "BRCA_ROOT = Path().home() / \"datasets\" / \"brca-psj-path\"\n",
    "CONTEST_DIR = BRCA_ROOT / \"contest-phase-2\"\n",
    "IMAGE_ROOT = CONTEST_DIR / \"png-downsampled-train\"\n",
    "IMAGE_ROOT_TEST = CONTEST_DIR / \"png-downsampled-holdout\"\n",
    "TABLE_DIR = CONTEST_DIR / \"csv-train\"\n",
    "LOGGER_DIR = Path().home() / \"logs\""
   ]
  },
  {
   "cell_type": "code",
   "execution_count": null,
   "id": "46f50ef7-9ea0-4db7-a35f-387cac06fbba",
   "metadata": {},
   "outputs": [],
   "source": [
    "slide_biop_df = pd.read_csv(CONTEST_DIR / \"slide-manifest-train.csv\")\n",
    "outcomes_df = pd.read_csv(TABLE_DIR / \"outcomes.csv\")\n",
    "slide_stage_df = slide_biop_df.merge(outcomes_df, on=\"biopsy_id\")\n",
    "def stage_to_int(stage):\n",
    "    if stage == \"0\":\n",
    "        return 0\n",
    "    elif stage == \"IA\" or stage == \"IB\":\n",
    "        return 1\n",
    "    elif stage == \"IIA\" or stage == \"IIB\":\n",
    "        return 2\n",
    "    elif stage == \"IIIA\" or stage == \"IIIB\" or stage == \"IIIC\":\n",
    "        return 3\n",
    "    elif stage == \"IV\":\n",
    "        return 4\n",
    "    elif stage == \"No Stage Rec\":\n",
    "        return 1\n",
    "    else:\n",
    "        return np.nan\n",
    "\n",
    "\n",
    "slide_stage_df[\"stage\"] = slide_stage_df[\"stage\"].apply(stage_to_int)\n",
    "train_slides_df = (slide_stage_df[[\"slide_id\", \"biopsy_id\", \"stage\", \"slide_path\"]].copy().dropna(how=\"any\").reset_index(drop=True))\n",
    "train_slides_df[\"stage\"] = train_slides_df[\"stage\"].astype(int)\n",
    "train_slides_df.head(5)"
   ]
  },
  {
   "cell_type": "code",
   "execution_count": null,
   "id": "ff493523-618d-4776-b5fa-126cd8987973",
   "metadata": {
    "tags": []
   },
   "outputs": [],
   "source": [
    "labels = train_slides_df['stage'].tolist()\n",
    "path_data = train_slides_df['slide_path'].tolist()"
   ]
  },
  {
   "cell_type": "code",
   "execution_count": null,
   "id": "e1961839-1d9d-4244-9aa5-37e8e0fee3bf",
   "metadata": {
    "tags": []
   },
   "outputs": [],
   "source": [
    "train_data, eval_data, train_labels, eval_labels = train_test_split(path_data, labels, stratify=labels, test_size=0.1, random_state=1234)"
   ]
  },
  {
   "cell_type": "code",
   "execution_count": null,
   "id": "f908e7ff-1d5d-4e05-8b5d-4c0216c08f68",
   "metadata": {
    "tags": []
   },
   "outputs": [],
   "source": [
    "print('Training Data: {} - Validation Data: {}'.format(len(train_data), len(eval_data)))"
   ]
  },
  {
   "cell_type": "code",
   "execution_count": null,
   "id": "30075128-dd1c-40a2-acc4-25f8389a4b24",
   "metadata": {
    "tags": []
   },
   "outputs": [],
   "source": [
    "def make_dirs():\n",
    "    directory = os.path.join('/','home','ngsci','project', 'ami-ahead-wombcare')\n",
    "    for split in ['training', 'validation']:\n",
    "        if not os.path.exists(os.path.join(directory, split)):\n",
    "            os.mkdir(os.path.join(directory, split))\n",
    "        split_dir = os.path.join(directory, split)\n",
    "        for category in range(5):\n",
    "            if not os.path.exists(os.path.join(split_dir, str(category))):\n",
    "                os.mkdir(os.path.join(split_dir, str(category)))\n",
    "\n",
    "make_dirs()"
   ]
  },
  {
   "cell_type": "code",
   "execution_count": null,
   "id": "867ae265-c2e3-429f-ae12-ab47e4489596",
   "metadata": {
    "tags": []
   },
   "outputs": [],
   "source": [
    "def get_image(path_folder, ndpi_filepath, output_dir):\n",
    "    slide_id = Path(ndpi_filepath).stem\n",
    "    stitch_fp = path_folder / f'{slide_id}.png'\n",
    "    shutil.copy(stitch_fp, output_dir)"
   ]
  },
  {
   "cell_type": "code",
   "execution_count": null,
   "id": "445f767b-4521-4a1a-b960-f2a490efc46a",
   "metadata": {
    "tags": []
   },
   "outputs": [],
   "source": [
    "def create_images_to_dir(dataset_split, data_paths, data_labels):\n",
    "    directory = os.path.join('/','home','ngsci','project', 'ami-ahead-wombcare', dataset_split)\n",
    "    total_data = len(data_paths)\n",
    "    for index in tqdm(range(total_data), desc = '{} Dataset Creation Progress'.format(dataset_split.capitalize())):\n",
    "        data_path, data_label = data_paths[index], data_labels[index]\n",
    "        output_directory = os.path.join(directory, str(data_label))\n",
    "        get_image(IMAGE_ROOT, data_path, output_directory)\n",
    "\n",
    "create_images_to_dir('training', train_data, train_labels)\n",
    "create_images_to_dir('validation', eval_data, eval_labels)\n",
    "\n",
    "train_data_dir = os.path.join('/','home','ngsci', 'project', 'ami-ahead-wombcare', 'training')\n",
    "train_slides_fp = os.path.join(train_data_dir,'*','*')\n",
    "train_slides_list = glob.glob(train_slides_fp)\n",
    "print('Train Images: {}'.format(len(train_slides_list)))\n",
    "\n",
    "eval_data_dir = os.path.join('/','home','ngsci', 'project', 'ami-ahead-wombcare', 'validation')\n",
    "eval_slides_fp = os.path.join(eval_data_dir,'*','*')\n",
    "eval_slides_list = glob.glob(eval_slides_fp)\n",
    "print('Eval Images: {}'.format(len(eval_slides_list)))"
   ]
  },
  {
   "cell_type": "code",
   "execution_count": null,
   "id": "4ad57a18-aeba-4b50-b5f6-66eeacf9d5cb",
   "metadata": {
    "tags": []
   },
   "outputs": [],
   "source": [
    "testing_manifest = pd.read_csv(os.path.join(CONTEST_DIR, \"slide-manifest-holdout.csv\"))\n",
    "testing_slides = testing_manifest.slide_id.tolist()\n",
    "\n",
    "def create_test_images_to_dir(dataset_split, slides_ids):\n",
    "    directory = os.path.join('/','home','ngsci','project', 'ami-ahead-wombcare', dataset_split)\n",
    "    total_data = len(slides_ids)\n",
    "    for index in tqdm(range(total_data), desc =\"{} Dataset Creation Progress\".format(dataset_split.capitalize())):\n",
    "        stitch_fp = IMAGE_ROOT_TEST / f'{slides_ids[index]}.png'\n",
    "        shutil.copy(stitch_fp, directory)\n",
    "\n",
    "\n",
    "create_test_images_to_dir('testing', testing_slides)\n",
    "test_data_dir = os.path.join('/','home','ngsci', 'project', 'ami-ahead-wombcare', 'testing')\n",
    "test_slides_fp = os.path.join(test_data_dir,'*')\n",
    "test_slides_list = glob.glob(test_slides_fp)\n",
    "print('Testing Images: {}'.format(len(test_slides_list)))"
   ]
  },
  {
   "cell_type": "code",
   "execution_count": null,
   "id": "87f4f390-a2af-446b-a396-be458c4f4ff0",
   "metadata": {},
   "outputs": [],
   "source": [
    "def get_image_stats(path, numpy=False, to_float=False):\n",
    "    img = Image.open(path)\n",
    "    if numpy:\n",
    "        arr = np.asarray(img)\n",
    "        if to_float:\n",
    "            arr = arr / 255.0\n",
    "        return arr\n",
    "    else:\n",
    "        return img"
   ]
  },
  {
   "cell_type": "code",
   "execution_count": null,
   "id": "b769d9c6-95a6-4ab8-b1ba-bfa492d99de1",
   "metadata": {
    "tags": []
   },
   "outputs": [],
   "source": [
    "# compute means and stds for normalization\n",
    "means_train, means_valid = [], []\n",
    "stds_train, stds_valid = [], []\n",
    "\n",
    "for path in train_slides_list:\n",
    "    arr = get_image_stats(path, numpy=True, to_float=True)\n",
    "    means_train.append(arr.mean(axis=(0, 1)))\n",
    "    stds_train.append(arr.std(axis=(0, 1)))\n",
    "\n",
    "for path in eval_slides_list:\n",
    "    arr = get_image_stats(path, numpy=True, to_float=True)\n",
    "    means_valid.append(arr.mean(axis=(0, 1)))\n",
    "    stds_valid.append(arr.std(axis=(0, 1)))\n",
    "\n",
    "MEANS_TRAIN = np.vstack(means_train).mean(axis=0)\n",
    "STDS_TRAIN = np.vstack(stds_train).mean(axis=0)\n",
    "\n",
    "MEANS_VALID = np.vstack(means_valid).mean(axis=0)\n",
    "STDS_VALID = np.vstack(stds_valid).mean(axis=0)\n",
    "\n",
    "print(MEANS_TRAIN, STDS_TRAIN)\n",
    "print(MEANS_VALID, STDS_VALID)"
   ]
  }
 ],
 "metadata": {
  "kernelspec": {
   "display_name": "Python 3 (ipykernel)",
   "language": "python",
   "name": "python3"
  },
  "language_info": {
   "codemirror_mode": {
    "name": "ipython",
    "version": 3
   },
   "file_extension": ".py",
   "mimetype": "text/x-python",
   "name": "python",
   "nbconvert_exporter": "python",
   "pygments_lexer": "ipython3",
   "version": "3.10.9"
  }
 },
 "nbformat": 4,
 "nbformat_minor": 5
}
